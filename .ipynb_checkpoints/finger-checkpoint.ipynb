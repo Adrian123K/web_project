{
 "cells": [
  {
   "cell_type": "code",
   "execution_count": null,
   "metadata": {},
   "outputs": [],
   "source": [
    "from tensorflow.keras.models import Sequential\n",
    "from tensorflow.keras.layers import Dense, Dropout, Flatten, Conv2D, MaxPooling2D\n",
    "from tensorflow.keras.callbacks import ModelCheckpoint, ReduceLROnPlateau\n",
    "from tensorflow.keras.preprocessing.image import ImageDataGenerator\n",
    "import os\n",
    "import shutil\n",
    "import numpy as np\n",
    "import pandas as pd\n",
    "import matplotlib.pyplot as plt\n",
    "%matplotlib inline"
   ]
  },
  {
   "cell_type": "code",
   "execution_count": null,
   "metadata": {},
   "outputs": [],
   "source": [
    "data_train_dir = '/kaggle/input/fingers/fingers/train/'\n",
    "data_test_dir = '/kaggle/input/fingers/fingers/test/'"
   ]
  },
  {
   "cell_type": "code",
   "execution_count": null,
   "metadata": {},
   "outputs": [],
   "source": [
    "train_dir = '/kaggle/working/train_dir'\n",
    "val_dir = '/kaggle/working/val_dir'\n",
    "test_dir = '/kaggle/working/test_dir'"
   ]
  },
  {
   "cell_type": "code",
   "execution_count": null,
   "metadata": {},
   "outputs": [],
   "source": [
    "def create_directory(dir_name):\n",
    "    dirs = [os.path.join(dir_name, \"L\"), os.path.join(dir_name, \"R\")]\n",
    "    \n",
    "    if os.path.exists(dir_name):\n",
    "        shutil.rmtree(dir_name)\n",
    "    os.makedirs(dir_name)\n",
    "    \n",
    "    for dir in dirs:\n",
    "        for i in range(6):\n",
    "            os.makedirs(dir + str(i))"
   ]
  },
  {
   "cell_type": "code",
   "execution_count": null,
   "metadata": {},
   "outputs": [],
   "source": [
    "create_directory(train_dir)\n",
    "create_directory(val_dir)\n",
    "create_directory(test_dir)"
   ]
  },
  {
   "cell_type": "code",
   "execution_count": null,
   "metadata": {},
   "outputs": [],
   "source": [
    "paths_train = []\n",
    "paths_test = []"
   ]
  },
  {
   "cell_type": "code",
   "execution_count": null,
   "metadata": {},
   "outputs": [],
   "source": [
    "count_data = {'0L': 0,\n",
    "              '1L': 0,\n",
    "              '2L': 0,\n",
    "              '3L': 0,\n",
    "              '4L': 0,\n",
    "              '5L': 0,\n",
    "              '0R': 0,\n",
    "              '1R': 0,\n",
    "              '2R': 0,\n",
    "              '3R': 0,\n",
    "              '4R': 0,\n",
    "              '5R': 0}"
   ]
  },
  {
   "cell_type": "code",
   "execution_count": null,
   "metadata": {},
   "outputs": [],
   "source": [
    "for dirname, _, filenames in os.walk(data_train_dir):\n",
    "    for filename in filenames:\n",
    "        paths_train.append(os.path.join(dirname, filename))\n",
    "        \n",
    "for dirname, _, filenames in os.walk(data_test_dir):\n",
    "    for filename in filenames:\n",
    "        paths_test.append(os.path.join(dirname, filename))"
   ]
  },
  {
   "cell_type": "code",
   "execution_count": null,
   "metadata": {},
   "outputs": [],
   "source": [
    "for filename in paths_train:\n",
    "    for key in count_data.keys():\n",
    "        if filename[-6:-4] == key:\n",
    "            count_data[key] += 1\n",
    "            \n",
    "for filename in paths_test:\n",
    "    for key in count_data.keys():\n",
    "        if filename[-6:-4] == key:\n",
    "            count_data[key] += 1"
   ]
  },
  {
   "cell_type": "code",
   "execution_count": null,
   "metadata": {},
   "outputs": [],
   "source": [
    "counts = count_data.values()\n",
    "groups = count_data.keys()"
   ]
  },
  {
   "cell_type": "code",
   "execution_count": null,
   "metadata": {},
   "outputs": [],
   "source": [
    "def copy_images(start_index, end_index, paths, dest_dir):\n",
    "    for i in range(start_index, end_index):\n",
    "        dest_path = os.path.join(dest_dir, paths[i][-5] + paths[i][-6])\n",
    "        shutil.copy2(paths[i], dest_path)"
   ]
  },
  {
   "cell_type": "code",
   "execution_count": null,
   "metadata": {},
   "outputs": [],
   "source": [
    "# Part of the validation data set\n",
    "validation_data_proportion = 0.15"
   ]
  },
  {
   "cell_type": "code",
   "execution_count": null,
   "metadata": {},
   "outputs": [],
   "source": [
    "# copying images from input directory to output\n",
    "copy_images(0, len(paths_train) - int(validation_data_proportion * len(paths_train)),\n",
    "            paths_train, train_dir)\n",
    "copy_images(len(paths_train) - int(validation_data_proportion * len(paths_train)),\n",
    "            len(paths_train), paths_train, val_dir)\n",
    "copy_images(0, len(paths_test), paths_test, test_dir)"
   ]
  },
  {
   "cell_type": "code",
   "execution_count": null,
   "metadata": {},
   "outputs": [],
   "source": []
  },
  {
   "cell_type": "code",
   "execution_count": null,
   "metadata": {},
   "outputs": [],
   "source": []
  },
  {
   "cell_type": "code",
   "execution_count": null,
   "metadata": {},
   "outputs": [],
   "source": []
  },
  {
   "cell_type": "code",
   "execution_count": null,
   "metadata": {},
   "outputs": [],
   "source": []
  }
 ],
 "metadata": {
  "kernelspec": {
   "display_name": "Python 3",
   "language": "python",
   "name": "python3"
  },
  "language_info": {
   "codemirror_mode": {
    "name": "ipython",
    "version": 3
   },
   "file_extension": ".py",
   "mimetype": "text/x-python",
   "name": "python",
   "nbconvert_exporter": "python",
   "pygments_lexer": "ipython3",
   "version": "3.7.4"
  },
  "toc": {
   "base_numbering": 1,
   "nav_menu": {},
   "number_sections": true,
   "sideBar": true,
   "skip_h1_title": false,
   "title_cell": "Table of Contents",
   "title_sidebar": "Contents",
   "toc_cell": false,
   "toc_position": {},
   "toc_section_display": true,
   "toc_window_display": false
  }
 },
 "nbformat": 4,
 "nbformat_minor": 2
}
